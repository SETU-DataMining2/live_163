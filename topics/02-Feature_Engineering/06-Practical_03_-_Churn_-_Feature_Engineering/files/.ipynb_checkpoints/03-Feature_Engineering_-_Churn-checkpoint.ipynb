{
 "cells": [
  {
   "cell_type": "markdown",
   "metadata": {
    "Collapsed": "false"
   },
   "source": [
    "# Churn - Feature Engineering"
   ]
  },
  {
   "cell_type": "markdown",
   "metadata": {
    "Collapsed": "false"
   },
   "source": [
    "## Load Libraries"
   ]
  },
  {
   "cell_type": "code",
   "execution_count": 1,
   "metadata": {
    "Collapsed": "false"
   },
   "outputs": [],
   "source": [
    "import pandas as pd\n",
    "import numpy as np\n",
    "import matplotlib.pyplot as plt\n",
    "import seaborn as sns\n",
    "plt.style.use(\"seaborn-darkgrid\")"
   ]
  },
  {
   "cell_type": "code",
   "execution_count": 2,
   "metadata": {
    "Collapsed": "false"
   },
   "outputs": [],
   "source": [
    "from IPython.display import Markdown, display\n",
    "\n",
    "OUT = \"output\"\n",
    "import os\n",
    "os.makedirs(OUT, exist_ok=True)\n",
    "SHOW_PLOTS = False\n",
    "TRAIN_TEST_SEED = 42"
   ]
  },
  {
   "cell_type": "code",
   "execution_count": 3,
   "metadata": {
    "Collapsed": "false"
   },
   "outputs": [],
   "source": [
    "# utility funciton for typesetting percentages\n",
    "display_fraction = lambda n,d: (n/d*100, n, d)"
   ]
  },
  {
   "cell_type": "markdown",
   "metadata": {
    "Collapsed": "false"
   },
   "source": [
    "## Load and Prepare the Data \n",
    "\n",
    "I have made a slight change of naming convention which will simply code below - and also avoid mistakes in lab sessions when I rerun cells out of order to demo parts of the code.   Rather than using __df__ to store the full dataset I will use __df_all__, and use __df__ as an alias for various dataset as needed - see [Feature Engineering](#Feature_Engineering). So will try to follow naming convention:\n",
    "\n",
    " * __df__ alias for various datasets (trwated link a tmp variable, more later). \n",
    " * __df_all__ full dataset after loading and prepped (columns renamed, value recoded).\n",
    " * __df_model__ dataset with target and a subset of the original attributes that may appear in model or be used to construct other attributes.\n",
    " * __df_train__ dataset \n",
    " * __df_test__ dataset \n",
    "\n",
    " \n"
   ]
  },
  {
   "cell_type": "code",
   "execution_count": 63,
   "metadata": {
    "Collapsed": "false"
   },
   "outputs": [
    {
     "name": "stdout",
     "output_type": "stream",
     "text": [
      "Churn (3333, 16)\n",
      "States (52, 4)\n"
     ]
    },
    {
     "data": {
      "text/markdown": [
       " * Data set consists of 3333 cases (rows) with 18 attributes (cols) and a single target."
      ],
      "text/plain": [
       "<IPython.core.display.Markdown object>"
      ]
     },
     "execution_count": 63,
     "metadata": {},
     "output_type": "execute_result"
    }
   ],
   "source": [
    "df_churn = pd.read_csv(\"data/churn.csv\")\n",
    "print(\"Churn\", df_churn.shape)\n",
    "df_states = pd.read_csv(\"data/states.csv\")\n",
    "print(\"States\", df_states.shape)\n",
    "\n",
    "df_all = df_churn.merge(df_states, on=\"State\")\n",
    "\n",
    "message = (\" * Data set consists of %d cases (rows) with %s attributes (cols) and a single target.\"  \n",
    "% (df_all.shape[0], df_all.shape[1]-1))\n",
    "Markdown(message)"
   ]
  },
  {
   "cell_type": "code",
   "execution_count": 64,
   "metadata": {
    "Collapsed": "false"
   },
   "outputs": [
    {
     "data": {
      "text/html": [
       "<div>\n",
       "<style scoped>\n",
       "    .dataframe tbody tr th:only-of-type {\n",
       "        vertical-align: middle;\n",
       "    }\n",
       "\n",
       "    .dataframe tbody tr th {\n",
       "        vertical-align: top;\n",
       "    }\n",
       "\n",
       "    .dataframe thead th {\n",
       "        text-align: right;\n",
       "    }\n",
       "</style>\n",
       "<table border=\"1\" class=\"dataframe\">\n",
       "  <thead>\n",
       "    <tr style=\"text-align: right;\">\n",
       "      <th></th>\n",
       "      <th>State</th>\n",
       "      <th>Account_Length</th>\n",
       "      <th>Area_Code</th>\n",
       "      <th>Intl_Plan</th>\n",
       "      <th>VMail_Plan</th>\n",
       "      <th>VMail_Message</th>\n",
       "      <th>Day_Mins</th>\n",
       "      <th>Day_Calls</th>\n",
       "      <th>Eve_Mins</th>\n",
       "      <th>Eve_Calls</th>\n",
       "      <th>Night_Mins</th>\n",
       "      <th>Night_Calls</th>\n",
       "      <th>Intl_Mins</th>\n",
       "      <th>Intl_Calls</th>\n",
       "      <th>Cust_Serv_Calls</th>\n",
       "      <th>Churn</th>\n",
       "      <th>Latitude</th>\n",
       "      <th>Longitude</th>\n",
       "      <th>Name</th>\n",
       "    </tr>\n",
       "  </thead>\n",
       "  <tbody>\n",
       "    <tr>\n",
       "      <th>0</th>\n",
       "      <td>KS</td>\n",
       "      <td>128</td>\n",
       "      <td>415</td>\n",
       "      <td>no</td>\n",
       "      <td>yes</td>\n",
       "      <td>25</td>\n",
       "      <td>265.1</td>\n",
       "      <td>110</td>\n",
       "      <td>197.4</td>\n",
       "      <td>99</td>\n",
       "      <td>244.7</td>\n",
       "      <td>91</td>\n",
       "      <td>10.0</td>\n",
       "      <td>3</td>\n",
       "      <td>1</td>\n",
       "      <td>no</td>\n",
       "      <td>39.011902</td>\n",
       "      <td>-98.484246</td>\n",
       "      <td>Kansas</td>\n",
       "    </tr>\n",
       "    <tr>\n",
       "      <th>1</th>\n",
       "      <td>KS</td>\n",
       "      <td>70</td>\n",
       "      <td>408</td>\n",
       "      <td>no</td>\n",
       "      <td>no</td>\n",
       "      <td>0</td>\n",
       "      <td>232.1</td>\n",
       "      <td>122</td>\n",
       "      <td>292.3</td>\n",
       "      <td>112</td>\n",
       "      <td>201.2</td>\n",
       "      <td>112</td>\n",
       "      <td>0.0</td>\n",
       "      <td>0</td>\n",
       "      <td>3</td>\n",
       "      <td>no</td>\n",
       "      <td>39.011902</td>\n",
       "      <td>-98.484246</td>\n",
       "      <td>Kansas</td>\n",
       "    </tr>\n",
       "    <tr>\n",
       "      <th>2</th>\n",
       "      <td>KS</td>\n",
       "      <td>92</td>\n",
       "      <td>408</td>\n",
       "      <td>yes</td>\n",
       "      <td>no</td>\n",
       "      <td>0</td>\n",
       "      <td>62.6</td>\n",
       "      <td>111</td>\n",
       "      <td>180.6</td>\n",
       "      <td>126</td>\n",
       "      <td>221.7</td>\n",
       "      <td>80</td>\n",
       "      <td>10.4</td>\n",
       "      <td>2</td>\n",
       "      <td>1</td>\n",
       "      <td>yes</td>\n",
       "      <td>39.011902</td>\n",
       "      <td>-98.484246</td>\n",
       "      <td>Kansas</td>\n",
       "    </tr>\n",
       "    <tr>\n",
       "      <th>3</th>\n",
       "      <td>KS</td>\n",
       "      <td>137</td>\n",
       "      <td>408</td>\n",
       "      <td>no</td>\n",
       "      <td>no</td>\n",
       "      <td>0</td>\n",
       "      <td>205.9</td>\n",
       "      <td>88</td>\n",
       "      <td>209.3</td>\n",
       "      <td>86</td>\n",
       "      <td>289.9</td>\n",
       "      <td>84</td>\n",
       "      <td>14.5</td>\n",
       "      <td>4</td>\n",
       "      <td>2</td>\n",
       "      <td>no</td>\n",
       "      <td>39.011902</td>\n",
       "      <td>-98.484246</td>\n",
       "      <td>Kansas</td>\n",
       "    </tr>\n",
       "    <tr>\n",
       "      <th>4</th>\n",
       "      <td>KS</td>\n",
       "      <td>132</td>\n",
       "      <td>415</td>\n",
       "      <td>no</td>\n",
       "      <td>no</td>\n",
       "      <td>0</td>\n",
       "      <td>83.4</td>\n",
       "      <td>110</td>\n",
       "      <td>232.2</td>\n",
       "      <td>137</td>\n",
       "      <td>146.7</td>\n",
       "      <td>114</td>\n",
       "      <td>7.6</td>\n",
       "      <td>5</td>\n",
       "      <td>1</td>\n",
       "      <td>no</td>\n",
       "      <td>39.011902</td>\n",
       "      <td>-98.484246</td>\n",
       "      <td>Kansas</td>\n",
       "    </tr>\n",
       "  </tbody>\n",
       "</table>\n",
       "</div>"
      ],
      "text/plain": [
       "  State  Account_Length  Area_Code Intl_Plan VMail_Plan  VMail_Message  \\\n",
       "0    KS             128        415        no        yes             25   \n",
       "1    KS              70        408        no         no              0   \n",
       "2    KS              92        408       yes         no              0   \n",
       "3    KS             137        408        no         no              0   \n",
       "4    KS             132        415        no         no              0   \n",
       "\n",
       "   Day_Mins  Day_Calls  Eve_Mins  Eve_Calls  Night_Mins  Night_Calls  \\\n",
       "0     265.1        110     197.4         99       244.7           91   \n",
       "1     232.1        122     292.3        112       201.2          112   \n",
       "2      62.6        111     180.6        126       221.7           80   \n",
       "3     205.9         88     209.3         86       289.9           84   \n",
       "4      83.4        110     232.2        137       146.7          114   \n",
       "\n",
       "   Intl_Mins  Intl_Calls  Cust_Serv_Calls Churn   Latitude  Longitude    Name  \n",
       "0       10.0           3                1    no  39.011902 -98.484246  Kansas  \n",
       "1        0.0           0                3    no  39.011902 -98.484246  Kansas  \n",
       "2       10.4           2                1   yes  39.011902 -98.484246  Kansas  \n",
       "3       14.5           4                2    no  39.011902 -98.484246  Kansas  \n",
       "4        7.6           5                1    no  39.011902 -98.484246  Kansas  "
      ]
     },
     "execution_count": 64,
     "metadata": {},
     "output_type": "execute_result"
    }
   ],
   "source": [
    "df_all.head()"
   ]
  },
  {
   "cell_type": "code",
   "execution_count": 66,
   "metadata": {
    "Collapsed": "false"
   },
   "outputs": [
    {
     "data": {
      "text/html": [
       "<div>\n",
       "<style scoped>\n",
       "    .dataframe tbody tr th:only-of-type {\n",
       "        vertical-align: middle;\n",
       "    }\n",
       "\n",
       "    .dataframe tbody tr th {\n",
       "        vertical-align: top;\n",
       "    }\n",
       "\n",
       "    .dataframe thead th {\n",
       "        text-align: right;\n",
       "    }\n",
       "</style>\n",
       "<table border=\"1\" class=\"dataframe\">\n",
       "  <thead>\n",
       "    <tr style=\"text-align: right;\">\n",
       "      <th></th>\n",
       "      <th>State</th>\n",
       "      <th>Account_Length</th>\n",
       "      <th>Area_Code</th>\n",
       "      <th>Intl_Plan</th>\n",
       "      <th>VMail_Plan</th>\n",
       "      <th>VMail_Message</th>\n",
       "      <th>Day_Mins</th>\n",
       "      <th>Day_Calls</th>\n",
       "      <th>Eve_Mins</th>\n",
       "      <th>Eve_Calls</th>\n",
       "      <th>Night_Mins</th>\n",
       "      <th>Night_Calls</th>\n",
       "      <th>Intl_Mins</th>\n",
       "      <th>Intl_Calls</th>\n",
       "      <th>Cust_Serv_Calls</th>\n",
       "      <th>Churn</th>\n",
       "      <th>Latitude</th>\n",
       "      <th>Longitude</th>\n",
       "      <th>Name</th>\n",
       "    </tr>\n",
       "  </thead>\n",
       "  <tbody>\n",
       "    <tr>\n",
       "      <th>0</th>\n",
       "      <td>KS</td>\n",
       "      <td>128</td>\n",
       "      <td>415</td>\n",
       "      <td>0</td>\n",
       "      <td>1</td>\n",
       "      <td>25</td>\n",
       "      <td>265.1</td>\n",
       "      <td>110</td>\n",
       "      <td>197.4</td>\n",
       "      <td>99</td>\n",
       "      <td>244.7</td>\n",
       "      <td>91</td>\n",
       "      <td>10.0</td>\n",
       "      <td>3</td>\n",
       "      <td>1</td>\n",
       "      <td>0</td>\n",
       "      <td>39.011902</td>\n",
       "      <td>-98.484246</td>\n",
       "      <td>Kansas</td>\n",
       "    </tr>\n",
       "    <tr>\n",
       "      <th>1</th>\n",
       "      <td>KS</td>\n",
       "      <td>70</td>\n",
       "      <td>408</td>\n",
       "      <td>0</td>\n",
       "      <td>0</td>\n",
       "      <td>0</td>\n",
       "      <td>232.1</td>\n",
       "      <td>122</td>\n",
       "      <td>292.3</td>\n",
       "      <td>112</td>\n",
       "      <td>201.2</td>\n",
       "      <td>112</td>\n",
       "      <td>0.0</td>\n",
       "      <td>0</td>\n",
       "      <td>3</td>\n",
       "      <td>0</td>\n",
       "      <td>39.011902</td>\n",
       "      <td>-98.484246</td>\n",
       "      <td>Kansas</td>\n",
       "    </tr>\n",
       "    <tr>\n",
       "      <th>2</th>\n",
       "      <td>KS</td>\n",
       "      <td>92</td>\n",
       "      <td>408</td>\n",
       "      <td>1</td>\n",
       "      <td>0</td>\n",
       "      <td>0</td>\n",
       "      <td>62.6</td>\n",
       "      <td>111</td>\n",
       "      <td>180.6</td>\n",
       "      <td>126</td>\n",
       "      <td>221.7</td>\n",
       "      <td>80</td>\n",
       "      <td>10.4</td>\n",
       "      <td>2</td>\n",
       "      <td>1</td>\n",
       "      <td>1</td>\n",
       "      <td>39.011902</td>\n",
       "      <td>-98.484246</td>\n",
       "      <td>Kansas</td>\n",
       "    </tr>\n",
       "    <tr>\n",
       "      <th>3</th>\n",
       "      <td>KS</td>\n",
       "      <td>137</td>\n",
       "      <td>408</td>\n",
       "      <td>0</td>\n",
       "      <td>0</td>\n",
       "      <td>0</td>\n",
       "      <td>205.9</td>\n",
       "      <td>88</td>\n",
       "      <td>209.3</td>\n",
       "      <td>86</td>\n",
       "      <td>289.9</td>\n",
       "      <td>84</td>\n",
       "      <td>14.5</td>\n",
       "      <td>4</td>\n",
       "      <td>2</td>\n",
       "      <td>0</td>\n",
       "      <td>39.011902</td>\n",
       "      <td>-98.484246</td>\n",
       "      <td>Kansas</td>\n",
       "    </tr>\n",
       "    <tr>\n",
       "      <th>4</th>\n",
       "      <td>KS</td>\n",
       "      <td>132</td>\n",
       "      <td>415</td>\n",
       "      <td>0</td>\n",
       "      <td>0</td>\n",
       "      <td>0</td>\n",
       "      <td>83.4</td>\n",
       "      <td>110</td>\n",
       "      <td>232.2</td>\n",
       "      <td>137</td>\n",
       "      <td>146.7</td>\n",
       "      <td>114</td>\n",
       "      <td>7.6</td>\n",
       "      <td>5</td>\n",
       "      <td>1</td>\n",
       "      <td>0</td>\n",
       "      <td>39.011902</td>\n",
       "      <td>-98.484246</td>\n",
       "      <td>Kansas</td>\n",
       "    </tr>\n",
       "  </tbody>\n",
       "</table>\n",
       "</div>"
      ],
      "text/plain": [
       "  State  Account_Length  Area_Code  Intl_Plan  VMail_Plan  VMail_Message  \\\n",
       "0    KS             128        415          0           1             25   \n",
       "1    KS              70        408          0           0              0   \n",
       "2    KS              92        408          1           0              0   \n",
       "3    KS             137        408          0           0              0   \n",
       "4    KS             132        415          0           0              0   \n",
       "\n",
       "   Day_Mins  Day_Calls  Eve_Mins  Eve_Calls  Night_Mins  Night_Calls  \\\n",
       "0     265.1        110     197.4         99       244.7           91   \n",
       "1     232.1        122     292.3        112       201.2          112   \n",
       "2      62.6        111     180.6        126       221.7           80   \n",
       "3     205.9         88     209.3         86       289.9           84   \n",
       "4      83.4        110     232.2        137       146.7          114   \n",
       "\n",
       "   Intl_Mins  Intl_Calls  Cust_Serv_Calls  Churn   Latitude  Longitude    Name  \n",
       "0       10.0           3                1      0  39.011902 -98.484246  Kansas  \n",
       "1        0.0           0                3      0  39.011902 -98.484246  Kansas  \n",
       "2       10.4           2                1      1  39.011902 -98.484246  Kansas  \n",
       "3       14.5           4                2      0  39.011902 -98.484246  Kansas  \n",
       "4        7.6           5                1      0  39.011902 -98.484246  Kansas  "
      ]
     },
     "execution_count": 66,
     "metadata": {},
     "output_type": "execute_result"
    }
   ],
   "source": [
    "df_all.head()"
   ]
  },
  {
   "cell_type": "markdown",
   "metadata": {
    "Collapsed": "false"
   },
   "source": [
    "## Pre-Processing Data"
   ]
  },
  {
   "cell_type": "code",
   "execution_count": 68,
   "metadata": {
    "Collapsed": "false"
   },
   "outputs": [],
   "source": [
    "target = \"Churn\"\n",
    "attributes = df_all.columns.tolist()\n",
    "attributes.remove(target) \n",
    "\n",
    "df_model = df_all.loc[:, attributes + [target]]"
   ]
  },
  {
   "cell_type": "markdown",
   "metadata": {
    "Collapsed": "false"
   },
   "source": [
    "### Side Note - Down-Sampling \n",
    "\n",
    "When a dataset is imbalanced, one can generate a balanced dataset by taking a sample of the larger set."
   ]
  },
  {
   "cell_type": "code",
   "execution_count": 69,
   "metadata": {
    "Collapsed": "false"
   },
   "outputs": [],
   "source": [
    "#df_balanced_down_sampling = pd.concat ([\n",
    "#    df_all[df_all.Churn==0].sample(n=sum(df_all.Churn==1), random_state=TRAIN_TEST_SEED),\n",
    "#    df_all[df_all.Churn==1]])"
   ]
  },
  {
   "cell_type": "markdown",
   "metadata": {
    "Collapsed": "false"
   },
   "source": [
    "### Train-Test Split"
   ]
  },
  {
   "cell_type": "code",
   "execution_count": 70,
   "metadata": {
    "Collapsed": "false"
   },
   "outputs": [],
   "source": [
    "from sklearn.model_selection import train_test_split\n",
    "\n",
    "df_train, df_test = train_test_split(df_model, stratify=df_model[target], test_size=.50, random_state=TRAIN_TEST_SEED)"
   ]
  },
  {
   "cell_type": "markdown",
   "metadata": {
    "Collapsed": "false"
   },
   "source": [
    "## Feature_Engineering \n",
    "\n",
    "Features engineering and selection decision is carried out on __df_train__ ONLY, but resulting operations should be applied to both __df_train__ and __df_test__. The simplest way to do this (without repeating code) is to apply operations to __df_model__ and repeat the train/test split USING THE SAME SEED."
   ]
  },
  {
   "cell_type": "markdown",
   "metadata": {
    "Collapsed": "false"
   },
   "source": [
    "### New Feature - Cranky Triskaidekaphobias\n",
    "\n",
    "Would a feature indicating customers who complain and avoid the number 13 be useful in predicting Churn?\n",
    "\n",
    "This is a silly feature, but illustrates the general procedure"
   ]
  },
  {
   "cell_type": "code",
   "execution_count": 71,
   "metadata": {
    "Collapsed": "false"
   },
   "outputs": [
    {
     "data": {
      "text/html": [
       "<div>\n",
       "<style scoped>\n",
       "    .dataframe tbody tr th:only-of-type {\n",
       "        vertical-align: middle;\n",
       "    }\n",
       "\n",
       "    .dataframe tbody tr th {\n",
       "        vertical-align: top;\n",
       "    }\n",
       "\n",
       "    .dataframe thead th {\n",
       "        text-align: right;\n",
       "    }\n",
       "</style>\n",
       "<table border=\"1\" class=\"dataframe\">\n",
       "  <thead>\n",
       "    <tr style=\"text-align: right;\">\n",
       "      <th></th>\n",
       "      <th>State</th>\n",
       "      <th>Account_Length</th>\n",
       "      <th>Area_Code</th>\n",
       "      <th>Intl_Plan</th>\n",
       "      <th>VMail_Plan</th>\n",
       "      <th>VMail_Message</th>\n",
       "      <th>Day_Mins</th>\n",
       "      <th>Day_Calls</th>\n",
       "      <th>Eve_Mins</th>\n",
       "      <th>Eve_Calls</th>\n",
       "      <th>Night_Mins</th>\n",
       "      <th>Night_Calls</th>\n",
       "      <th>Intl_Mins</th>\n",
       "      <th>Intl_Calls</th>\n",
       "      <th>Cust_Serv_Calls</th>\n",
       "      <th>Latitude</th>\n",
       "      <th>Longitude</th>\n",
       "      <th>Name</th>\n",
       "      <th>Churn</th>\n",
       "    </tr>\n",
       "  </thead>\n",
       "  <tbody>\n",
       "    <tr>\n",
       "      <th>0</th>\n",
       "      <td>KS</td>\n",
       "      <td>128</td>\n",
       "      <td>415</td>\n",
       "      <td>0</td>\n",
       "      <td>1</td>\n",
       "      <td>25</td>\n",
       "      <td>265.1</td>\n",
       "      <td>110</td>\n",
       "      <td>197.4</td>\n",
       "      <td>99</td>\n",
       "      <td>244.7</td>\n",
       "      <td>91</td>\n",
       "      <td>10.0</td>\n",
       "      <td>3</td>\n",
       "      <td>1</td>\n",
       "      <td>39.011902</td>\n",
       "      <td>-98.484246</td>\n",
       "      <td>Kansas</td>\n",
       "      <td>0</td>\n",
       "    </tr>\n",
       "    <tr>\n",
       "      <th>1</th>\n",
       "      <td>KS</td>\n",
       "      <td>70</td>\n",
       "      <td>408</td>\n",
       "      <td>0</td>\n",
       "      <td>0</td>\n",
       "      <td>0</td>\n",
       "      <td>232.1</td>\n",
       "      <td>122</td>\n",
       "      <td>292.3</td>\n",
       "      <td>112</td>\n",
       "      <td>201.2</td>\n",
       "      <td>112</td>\n",
       "      <td>0.0</td>\n",
       "      <td>0</td>\n",
       "      <td>3</td>\n",
       "      <td>39.011902</td>\n",
       "      <td>-98.484246</td>\n",
       "      <td>Kansas</td>\n",
       "      <td>0</td>\n",
       "    </tr>\n",
       "    <tr>\n",
       "      <th>2</th>\n",
       "      <td>KS</td>\n",
       "      <td>92</td>\n",
       "      <td>408</td>\n",
       "      <td>1</td>\n",
       "      <td>0</td>\n",
       "      <td>0</td>\n",
       "      <td>62.6</td>\n",
       "      <td>111</td>\n",
       "      <td>180.6</td>\n",
       "      <td>126</td>\n",
       "      <td>221.7</td>\n",
       "      <td>80</td>\n",
       "      <td>10.4</td>\n",
       "      <td>2</td>\n",
       "      <td>1</td>\n",
       "      <td>39.011902</td>\n",
       "      <td>-98.484246</td>\n",
       "      <td>Kansas</td>\n",
       "      <td>1</td>\n",
       "    </tr>\n",
       "    <tr>\n",
       "      <th>3</th>\n",
       "      <td>KS</td>\n",
       "      <td>137</td>\n",
       "      <td>408</td>\n",
       "      <td>0</td>\n",
       "      <td>0</td>\n",
       "      <td>0</td>\n",
       "      <td>205.9</td>\n",
       "      <td>88</td>\n",
       "      <td>209.3</td>\n",
       "      <td>86</td>\n",
       "      <td>289.9</td>\n",
       "      <td>84</td>\n",
       "      <td>14.5</td>\n",
       "      <td>4</td>\n",
       "      <td>2</td>\n",
       "      <td>39.011902</td>\n",
       "      <td>-98.484246</td>\n",
       "      <td>Kansas</td>\n",
       "      <td>0</td>\n",
       "    </tr>\n",
       "    <tr>\n",
       "      <th>4</th>\n",
       "      <td>KS</td>\n",
       "      <td>132</td>\n",
       "      <td>415</td>\n",
       "      <td>0</td>\n",
       "      <td>0</td>\n",
       "      <td>0</td>\n",
       "      <td>83.4</td>\n",
       "      <td>110</td>\n",
       "      <td>232.2</td>\n",
       "      <td>137</td>\n",
       "      <td>146.7</td>\n",
       "      <td>114</td>\n",
       "      <td>7.6</td>\n",
       "      <td>5</td>\n",
       "      <td>1</td>\n",
       "      <td>39.011902</td>\n",
       "      <td>-98.484246</td>\n",
       "      <td>Kansas</td>\n",
       "      <td>0</td>\n",
       "    </tr>\n",
       "  </tbody>\n",
       "</table>\n",
       "</div>"
      ],
      "text/plain": [
       "  State  Account_Length  Area_Code  Intl_Plan  VMail_Plan  VMail_Message  \\\n",
       "0    KS             128        415          0           1             25   \n",
       "1    KS              70        408          0           0              0   \n",
       "2    KS              92        408          1           0              0   \n",
       "3    KS             137        408          0           0              0   \n",
       "4    KS             132        415          0           0              0   \n",
       "\n",
       "   Day_Mins  Day_Calls  Eve_Mins  Eve_Calls  Night_Mins  Night_Calls  \\\n",
       "0     265.1        110     197.4         99       244.7           91   \n",
       "1     232.1        122     292.3        112       201.2          112   \n",
       "2      62.6        111     180.6        126       221.7           80   \n",
       "3     205.9         88     209.3         86       289.9           84   \n",
       "4      83.4        110     232.2        137       146.7          114   \n",
       "\n",
       "   Intl_Mins  Intl_Calls  Cust_Serv_Calls   Latitude  Longitude    Name  Churn  \n",
       "0       10.0           3                1  39.011902 -98.484246  Kansas      0  \n",
       "1        0.0           0                3  39.011902 -98.484246  Kansas      0  \n",
       "2       10.4           2                1  39.011902 -98.484246  Kansas      1  \n",
       "3       14.5           4                2  39.011902 -98.484246  Kansas      0  \n",
       "4        7.6           5                1  39.011902 -98.484246  Kansas      0  "
      ]
     },
     "execution_count": 71,
     "metadata": {},
     "output_type": "execute_result"
    }
   ],
   "source": [
    "my_query = df_model.query('Cust_Serv_Calls>0 & Day_Calls!=13 & Eve_Calls!=13 & Night_Calls!=13 & Intl_Calls!=13')\n",
    "my_query.head()"
   ]
  },
  {
   "cell_type": "code",
   "execution_count": 72,
   "metadata": {
    "Collapsed": "false"
   },
   "outputs": [],
   "source": [
    "df_model[\"Cranky_Triskaidekaphobias\"] = df_model.apply (lambda row: (row.Cust_Serv_Calls>0 \n",
    "            and row.Day_Calls!=13 and row.Eve_Calls!=13 \n",
    "            and row.Night_Calls!=13 and row.Intl_Calls!=13), axis=1)"
   ]
  },
  {
   "cell_type": "markdown",
   "metadata": {
    "Collapsed": "false"
   },
   "source": [
    "### New Feature - ????"
   ]
  },
  {
   "cell_type": "code",
   "execution_count": null,
   "metadata": {
    "Collapsed": "false"
   },
   "outputs": [],
   "source": []
  },
  {
   "cell_type": "markdown",
   "metadata": {
    "Collapsed": "false"
   },
   "source": [
    "### New Feature - ????"
   ]
  },
  {
   "cell_type": "code",
   "execution_count": null,
   "metadata": {
    "Collapsed": "false"
   },
   "outputs": [],
   "source": []
  },
  {
   "cell_type": "markdown",
   "metadata": {
    "Collapsed": "false"
   },
   "source": [
    "### New Feature - ????"
   ]
  },
  {
   "cell_type": "code",
   "execution_count": null,
   "metadata": {
    "Collapsed": "false"
   },
   "outputs": [],
   "source": []
  },
  {
   "cell_type": "markdown",
   "metadata": {
    "Collapsed": "false"
   },
   "source": [
    "### New Feature - ????"
   ]
  },
  {
   "cell_type": "code",
   "execution_count": null,
   "metadata": {
    "Collapsed": "false"
   },
   "outputs": [],
   "source": []
  },
  {
   "cell_type": "markdown",
   "metadata": {
    "Collapsed": "false"
   },
   "source": [
    "### New Feature - ????"
   ]
  },
  {
   "cell_type": "code",
   "execution_count": null,
   "metadata": {
    "Collapsed": "false"
   },
   "outputs": [],
   "source": []
  },
  {
   "cell_type": "markdown",
   "metadata": {
    "Collapsed": "false"
   },
   "source": [
    "### New Feature - ????"
   ]
  },
  {
   "cell_type": "code",
   "execution_count": null,
   "metadata": {
    "Collapsed": "false"
   },
   "outputs": [],
   "source": []
  },
  {
   "cell_type": "markdown",
   "metadata": {
    "Collapsed": "false"
   },
   "source": [
    "## Model Training"
   ]
  },
  {
   "cell_type": "code",
   "execution_count": 73,
   "metadata": {
    "Collapsed": "false"
   },
   "outputs": [
    {
     "name": "stdout",
     "output_type": "stream",
     "text": [
      "['State' 'Account_Length' 'Area_Code' 'Intl_Plan' 'VMail_Plan'\n",
      " 'VMail_Message' 'Day_Mins' 'Day_Calls' 'Eve_Mins' 'Eve_Calls'\n",
      " 'Night_Mins' 'Night_Calls' 'Intl_Mins' 'Intl_Calls' 'Cust_Serv_Calls'\n",
      " 'Latitude' 'Longitude' 'Name' 'Churn' 'Cranky_Triskaidekaphobias']\n"
     ]
    }
   ],
   "source": [
    "print (df_model.columns.values)"
   ]
  },
  {
   "cell_type": "markdown",
   "metadata": {
    "Collapsed": "false"
   },
   "source": [
    "### Train-Test Split\n",
    "\n",
    "REPEAT train/test split from above so that both data subsets have the modified feature set."
   ]
  },
  {
   "cell_type": "code",
   "execution_count": 74,
   "metadata": {
    "Collapsed": "false"
   },
   "outputs": [
    {
     "name": "stdout",
     "output_type": "stream",
     "text": [
      "['Account_Length', 'Area_Code', 'Intl_Plan', 'VMail_Plan', 'VMail_Message', 'Day_Mins', 'Day_Calls', 'Eve_Mins', 'Eve_Calls', 'Night_Mins', 'Night_Calls', 'Intl_Mins', 'Intl_Calls', 'Cust_Serv_Calls', 'Latitude', 'Longitude', 'Name', 'Cranky_Triskaidekaphobias']\n"
     ]
    }
   ],
   "source": [
    "df_train, df_test = train_test_split(df_model, stratify=df_model[target], test_size=.50, random_state=TRAIN_TEST_SEED)\n",
    "attributes = df_model.columns.tolist()\n",
    "attributes.remove(target)\n",
    "for column in [\"State\", \"longitude\", \"latitude\"]:\n",
    "    if column in attributes: attributes.remove(column)\n",
    "print(attributes)"
   ]
  },
  {
   "cell_type": "code",
   "execution_count": 75,
   "metadata": {
    "Collapsed": "false"
   },
   "outputs": [
    {
     "data": {
      "text/html": [
       "<div>\n",
       "<style scoped>\n",
       "    .dataframe tbody tr th:only-of-type {\n",
       "        vertical-align: middle;\n",
       "    }\n",
       "\n",
       "    .dataframe tbody tr th {\n",
       "        vertical-align: top;\n",
       "    }\n",
       "\n",
       "    .dataframe thead th {\n",
       "        text-align: right;\n",
       "    }\n",
       "</style>\n",
       "<table border=\"1\" class=\"dataframe\">\n",
       "  <thead>\n",
       "    <tr style=\"text-align: right;\">\n",
       "      <th></th>\n",
       "      <th>State</th>\n",
       "      <th>Account_Length</th>\n",
       "      <th>Area_Code</th>\n",
       "      <th>Intl_Plan</th>\n",
       "      <th>VMail_Plan</th>\n",
       "      <th>VMail_Message</th>\n",
       "      <th>Day_Mins</th>\n",
       "      <th>Day_Calls</th>\n",
       "      <th>Eve_Mins</th>\n",
       "      <th>Eve_Calls</th>\n",
       "      <th>Night_Mins</th>\n",
       "      <th>Night_Calls</th>\n",
       "      <th>Intl_Mins</th>\n",
       "      <th>Intl_Calls</th>\n",
       "      <th>Cust_Serv_Calls</th>\n",
       "      <th>Latitude</th>\n",
       "      <th>Longitude</th>\n",
       "      <th>Name</th>\n",
       "      <th>Churn</th>\n",
       "      <th>Cranky_Triskaidekaphobias</th>\n",
       "    </tr>\n",
       "  </thead>\n",
       "  <tbody>\n",
       "    <tr>\n",
       "      <th>0</th>\n",
       "      <td>KS</td>\n",
       "      <td>128</td>\n",
       "      <td>415</td>\n",
       "      <td>0</td>\n",
       "      <td>1</td>\n",
       "      <td>25</td>\n",
       "      <td>265.1</td>\n",
       "      <td>110</td>\n",
       "      <td>197.4</td>\n",
       "      <td>99</td>\n",
       "      <td>244.7</td>\n",
       "      <td>91</td>\n",
       "      <td>10.0</td>\n",
       "      <td>3</td>\n",
       "      <td>1</td>\n",
       "      <td>39.011902</td>\n",
       "      <td>-98.484246</td>\n",
       "      <td>Kansas</td>\n",
       "      <td>0</td>\n",
       "      <td>True</td>\n",
       "    </tr>\n",
       "    <tr>\n",
       "      <th>1</th>\n",
       "      <td>KS</td>\n",
       "      <td>70</td>\n",
       "      <td>408</td>\n",
       "      <td>0</td>\n",
       "      <td>0</td>\n",
       "      <td>0</td>\n",
       "      <td>232.1</td>\n",
       "      <td>122</td>\n",
       "      <td>292.3</td>\n",
       "      <td>112</td>\n",
       "      <td>201.2</td>\n",
       "      <td>112</td>\n",
       "      <td>0.0</td>\n",
       "      <td>0</td>\n",
       "      <td>3</td>\n",
       "      <td>39.011902</td>\n",
       "      <td>-98.484246</td>\n",
       "      <td>Kansas</td>\n",
       "      <td>0</td>\n",
       "      <td>True</td>\n",
       "    </tr>\n",
       "    <tr>\n",
       "      <th>2</th>\n",
       "      <td>KS</td>\n",
       "      <td>92</td>\n",
       "      <td>408</td>\n",
       "      <td>1</td>\n",
       "      <td>0</td>\n",
       "      <td>0</td>\n",
       "      <td>62.6</td>\n",
       "      <td>111</td>\n",
       "      <td>180.6</td>\n",
       "      <td>126</td>\n",
       "      <td>221.7</td>\n",
       "      <td>80</td>\n",
       "      <td>10.4</td>\n",
       "      <td>2</td>\n",
       "      <td>1</td>\n",
       "      <td>39.011902</td>\n",
       "      <td>-98.484246</td>\n",
       "      <td>Kansas</td>\n",
       "      <td>1</td>\n",
       "      <td>True</td>\n",
       "    </tr>\n",
       "    <tr>\n",
       "      <th>3</th>\n",
       "      <td>KS</td>\n",
       "      <td>137</td>\n",
       "      <td>408</td>\n",
       "      <td>0</td>\n",
       "      <td>0</td>\n",
       "      <td>0</td>\n",
       "      <td>205.9</td>\n",
       "      <td>88</td>\n",
       "      <td>209.3</td>\n",
       "      <td>86</td>\n",
       "      <td>289.9</td>\n",
       "      <td>84</td>\n",
       "      <td>14.5</td>\n",
       "      <td>4</td>\n",
       "      <td>2</td>\n",
       "      <td>39.011902</td>\n",
       "      <td>-98.484246</td>\n",
       "      <td>Kansas</td>\n",
       "      <td>0</td>\n",
       "      <td>True</td>\n",
       "    </tr>\n",
       "    <tr>\n",
       "      <th>4</th>\n",
       "      <td>KS</td>\n",
       "      <td>132</td>\n",
       "      <td>415</td>\n",
       "      <td>0</td>\n",
       "      <td>0</td>\n",
       "      <td>0</td>\n",
       "      <td>83.4</td>\n",
       "      <td>110</td>\n",
       "      <td>232.2</td>\n",
       "      <td>137</td>\n",
       "      <td>146.7</td>\n",
       "      <td>114</td>\n",
       "      <td>7.6</td>\n",
       "      <td>5</td>\n",
       "      <td>1</td>\n",
       "      <td>39.011902</td>\n",
       "      <td>-98.484246</td>\n",
       "      <td>Kansas</td>\n",
       "      <td>0</td>\n",
       "      <td>True</td>\n",
       "    </tr>\n",
       "  </tbody>\n",
       "</table>\n",
       "</div>"
      ],
      "text/plain": [
       "  State  Account_Length  Area_Code  Intl_Plan  VMail_Plan  VMail_Message  \\\n",
       "0    KS             128        415          0           1             25   \n",
       "1    KS              70        408          0           0              0   \n",
       "2    KS              92        408          1           0              0   \n",
       "3    KS             137        408          0           0              0   \n",
       "4    KS             132        415          0           0              0   \n",
       "\n",
       "   Day_Mins  Day_Calls  Eve_Mins  Eve_Calls  Night_Mins  Night_Calls  \\\n",
       "0     265.1        110     197.4         99       244.7           91   \n",
       "1     232.1        122     292.3        112       201.2          112   \n",
       "2      62.6        111     180.6        126       221.7           80   \n",
       "3     205.9         88     209.3         86       289.9           84   \n",
       "4      83.4        110     232.2        137       146.7          114   \n",
       "\n",
       "   Intl_Mins  Intl_Calls  Cust_Serv_Calls   Latitude  Longitude    Name  \\\n",
       "0       10.0           3                1  39.011902 -98.484246  Kansas   \n",
       "1        0.0           0                3  39.011902 -98.484246  Kansas   \n",
       "2       10.4           2                1  39.011902 -98.484246  Kansas   \n",
       "3       14.5           4                2  39.011902 -98.484246  Kansas   \n",
       "4        7.6           5                1  39.011902 -98.484246  Kansas   \n",
       "\n",
       "   Churn  Cranky_Triskaidekaphobias  \n",
       "0      0                       True  \n",
       "1      0                       True  \n",
       "2      1                       True  \n",
       "3      0                       True  \n",
       "4      0                       True  "
      ]
     },
     "execution_count": 75,
     "metadata": {},
     "output_type": "execute_result"
    }
   ],
   "source": [
    "df_model.head()"
   ]
  },
  {
   "cell_type": "code",
   "execution_count": 76,
   "metadata": {
    "Collapsed": "false"
   },
   "outputs": [],
   "source": [
    "attributes = df_model.columns.tolist()\n",
    "for c in [\"Churn\", \"State\", \"Name\"]: \n",
    "    if c in attributes: attributes.remove(c)\n",
    "\n",
    "from sklearn.preprocessing import StandardScaler\n",
    "\n",
    "scaler = StandardScaler()\n",
    "\n",
    "X_train = scaler.fit_transform(df_train.loc[:,attributes].astype(float))\n",
    "y_train = df_train.Churn.values\n",
    "\n",
    "X_test = scaler.transform(df_test.loc[:,attributes].astype(float))\n",
    "y_test = df_test.Churn.values"
   ]
  },
  {
   "cell_type": "markdown",
   "metadata": {
    "Collapsed": "false"
   },
   "source": [
    "### Evaluation\n",
    "\n",
    "We spoke about the AUC metric last week. This week we will focus on recall - it is easier and probably more relevant in this case and we want to focus on identifying as many Churn customers as possible."
   ]
  },
  {
   "cell_type": "code",
   "execution_count": 47,
   "metadata": {
    "Collapsed": "false"
   },
   "outputs": [],
   "source": [
    "from sklearn.model_selection import cross_val_score\n",
    "from sklearn.metrics import recall_score, roc_auc_score\n",
    "\n",
    "models = []"
   ]
  },
  {
   "cell_type": "markdown",
   "metadata": {
    "Collapsed": "false"
   },
   "source": [
    "### Training - First Iteration\n",
    "\n",
    "Just fix a few of our standard classifiers, using default/semi-sane parameters."
   ]
  },
  {
   "cell_type": "markdown",
   "metadata": {
    "Collapsed": "false"
   },
   "source": [
    "#### Logistic Regression"
   ]
  },
  {
   "cell_type": "code",
   "execution_count": 48,
   "metadata": {
    "Collapsed": "false"
   },
   "outputs": [],
   "source": [
    "from sklearn.linear_model import LogisticRegression\n",
    "models.append( {\"name\":\"LogisticRegression\", \"ref\": LogisticRegression(solver=\"lbfgs\")} )"
   ]
  },
  {
   "cell_type": "markdown",
   "metadata": {
    "Collapsed": "false"
   },
   "source": [
    "#### Support Vector Machines"
   ]
  },
  {
   "cell_type": "code",
   "execution_count": 49,
   "metadata": {
    "Collapsed": "false"
   },
   "outputs": [],
   "source": [
    "from sklearn.svm import SVC\n",
    "models.append( {\"name\":\"SVC\", \"ref\":SVC(gamma=\"scale\")} )"
   ]
  },
  {
   "cell_type": "markdown",
   "metadata": {
    "Collapsed": "false"
   },
   "source": [
    "#### Decision Trees"
   ]
  },
  {
   "cell_type": "code",
   "execution_count": 50,
   "metadata": {
    "Collapsed": "false"
   },
   "outputs": [],
   "source": [
    "from sklearn.tree import DecisionTreeClassifier\n",
    "models.append( {\"name\":\"DT (prunned=4)\", \"ref\":DecisionTreeClassifier(criterion='entropy', max_depth=4)} )"
   ]
  },
  {
   "cell_type": "code",
   "execution_count": 51,
   "metadata": {
    "Collapsed": "false"
   },
   "outputs": [
    {
     "name": "stdout",
     "output_type": "stream",
     "text": [
      "\n",
      "Model LogisticRegression\n",
      "\tCV scores [0.12244898 0.25       0.29166667 0.1875     0.20833333]\n",
      "\tmean=0.212 std=0.057\n",
      "\n",
      "Model SVC\n",
      "\tCV scores [0.30612245 0.39583333 0.35416667 0.22916667 0.45833333]\n",
      "\tmean=0.349 std=0.078\n",
      "\n",
      "Model DT (prunned=4)\n",
      "\tCV scores [0.40816327 0.58333333 0.5625     0.41666667 0.54166667]\n",
      "\tmean=0.502 std=0.075\n"
     ]
    }
   ],
   "source": [
    "for model in models:\n",
    "    \n",
    "    crossval_scores = cross_val_score(model[\"ref\"], X_train, y_train, scoring='recall', cv=5)\n",
    "    print (\"\\nModel %s\" % model[\"name\"])\n",
    "    print (\"\\tCV scores %s\" % crossval_scores)\n",
    "    print (\"\\tmean=%.3f std=%.3f\" % (crossval_scores.mean(), crossval_scores.std()))"
   ]
  },
  {
   "cell_type": "markdown",
   "metadata": {
    "Collapsed": "false"
   },
   "source": [
    "### Feature Selection"
   ]
  },
  {
   "cell_type": "code",
   "execution_count": 52,
   "metadata": {
    "Collapsed": "false"
   },
   "outputs": [],
   "source": [
    "df_train, df_test = train_test_split(df_model, stratify=df_model[target], test_size=.25, random_state=TRAIN_TEST_SEED)\n",
    "\n",
    "X_train = scaler.fit_transform(df_train.loc[:,attributes].astype(float))\n",
    "\n",
    "y_train = df_train.Churn.values\n",
    "\n",
    "X_test = scaler.transform(df_test.loc[:,attributes].astype(float))\n",
    "y_test = df_test.Churn.values"
   ]
  },
  {
   "cell_type": "code",
   "execution_count": 53,
   "metadata": {
    "Collapsed": "false"
   },
   "outputs": [
    {
     "name": "stdout",
     "output_type": "stream",
     "text": [
      "Optimal number of features : 5\n"
     ]
    },
    {
     "data": {
      "image/png": "[encoded data removed]",
      "text/plain": [
       "<Figure size 432x288 with 1 Axes>"
      ]
     },
     "metadata": {},
     "output_type": "display_data"
    }
   ],
   "source": [
    "from sklearn.model_selection import StratifiedKFold\n",
    "from sklearn.feature_selection import RFECV\n",
    "\n",
    "model = models[2][\"ref\"]\n",
    "\n",
    "rfecv = RFECV(estimator=model, step=1, cv=StratifiedKFold(2), scoring=\"recall\")\n",
    "rfecv.fit(X_train, y_train)\n",
    "print(\"Optimal number of features : %d\" % rfecv.n_features_)\n",
    "\n",
    "# Plot number of features VS. cross-validation scores\n",
    "plt.figure()\n",
    "plt.xlabel(\"Number of features selected\")\n",
    "plt.ylabel(\"Cross validation score\")\n",
    "plt.plot(range(1, len(rfecv.grid_scores_) + 1), rfecv.grid_scores_)\n",
    "plt.show()\n"
   ]
  },
  {
   "cell_type": "code",
   "execution_count": 54,
   "metadata": {
    "Collapsed": "false"
   },
   "outputs": [
    {
     "data": {
      "text/plain": [
       "['Intl_Plan', 'Day_Mins', 'Eve_Mins', 'Intl_Calls', 'Cust_Serv_Calls']"
      ]
     },
     "execution_count": 54,
     "metadata": {},
     "output_type": "execute_result"
    }
   ],
   "source": [
    "# list of features selected\n",
    "attributes_selected = np.array(attributes)[rfecv.support_].tolist()\n",
    "attributes_selected"
   ]
  },
  {
   "cell_type": "markdown",
   "metadata": {
    "Collapsed": "false"
   },
   "source": [
    "### Training - After Feature Selection"
   ]
  },
  {
   "cell_type": "code",
   "execution_count": 59,
   "metadata": {
    "Collapsed": "false"
   },
   "outputs": [
    {
     "data": {
      "text/html": [
       "<div>\n",
       "<style scoped>\n",
       "    .dataframe tbody tr th:only-of-type {\n",
       "        vertical-align: middle;\n",
       "    }\n",
       "\n",
       "    .dataframe tbody tr th {\n",
       "        vertical-align: top;\n",
       "    }\n",
       "\n",
       "    .dataframe thead th {\n",
       "        text-align: right;\n",
       "    }\n",
       "</style>\n",
       "<table border=\"1\" class=\"dataframe\">\n",
       "  <thead>\n",
       "    <tr style=\"text-align: right;\">\n",
       "      <th></th>\n",
       "      <th>Intl_Plan</th>\n",
       "      <th>Day_Mins</th>\n",
       "      <th>Eve_Mins</th>\n",
       "      <th>Intl_Calls</th>\n",
       "      <th>Cust_Serv_Calls</th>\n",
       "      <th>Churn</th>\n",
       "    </tr>\n",
       "  </thead>\n",
       "  <tbody>\n",
       "    <tr>\n",
       "      <th>0</th>\n",
       "      <td>0</td>\n",
       "      <td>265.1</td>\n",
       "      <td>197.4</td>\n",
       "      <td>3</td>\n",
       "      <td>1</td>\n",
       "      <td>0</td>\n",
       "    </tr>\n",
       "    <tr>\n",
       "      <th>1</th>\n",
       "      <td>0</td>\n",
       "      <td>232.1</td>\n",
       "      <td>292.3</td>\n",
       "      <td>0</td>\n",
       "      <td>3</td>\n",
       "      <td>0</td>\n",
       "    </tr>\n",
       "    <tr>\n",
       "      <th>2</th>\n",
       "      <td>1</td>\n",
       "      <td>62.6</td>\n",
       "      <td>180.6</td>\n",
       "      <td>2</td>\n",
       "      <td>1</td>\n",
       "      <td>1</td>\n",
       "    </tr>\n",
       "    <tr>\n",
       "      <th>3</th>\n",
       "      <td>0</td>\n",
       "      <td>205.9</td>\n",
       "      <td>209.3</td>\n",
       "      <td>4</td>\n",
       "      <td>2</td>\n",
       "      <td>0</td>\n",
       "    </tr>\n",
       "    <tr>\n",
       "      <th>4</th>\n",
       "      <td>0</td>\n",
       "      <td>83.4</td>\n",
       "      <td>232.2</td>\n",
       "      <td>5</td>\n",
       "      <td>1</td>\n",
       "      <td>0</td>\n",
       "    </tr>\n",
       "  </tbody>\n",
       "</table>\n",
       "</div>"
      ],
      "text/plain": [
       "   Intl_Plan  Day_Mins  Eve_Mins  Intl_Calls  Cust_Serv_Calls  Churn\n",
       "0          0     265.1     197.4           3                1      0\n",
       "1          0     232.1     292.3           0                3      0\n",
       "2          1      62.6     180.6           2                1      1\n",
       "3          0     205.9     209.3           4                2      0\n",
       "4          0      83.4     232.2           5                1      0"
      ]
     },
     "metadata": {},
     "output_type": "display_data"
    },
    {
     "name": "stdout",
     "output_type": "stream",
     "text": [
      "\n",
      "Model LogisticRegression\n",
      "\tCV scores [0.15068493 0.09589041 0.13888889 0.22222222 0.125     ]\n",
      "\tmean=0.147 std=0.042\n",
      "\n",
      "Model SVC\n",
      "\tCV scores [0.36986301 0.4109589  0.43055556 0.375      0.375     ]\n",
      "\tmean=0.392 std=0.024\n",
      "\n",
      "Model DT (prunned=4)\n",
      "\tCV scores [0.5890411  0.47945205 0.48611111 0.47222222 0.48611111]\n",
      "\tmean=0.503 std=0.044\n"
     ]
    }
   ],
   "source": [
    "TRAIN_TEST_SEED = 42\n",
    "\n",
    "df_model_fs = df_model.loc[:, attributes_selected + [target]]\n",
    "display(df_model_fs.head())\n",
    "\n",
    "# train-test split\n",
    "df_train_fs, df_test_fs = train_test_split(df_model_fs, stratify=df_model_fs[target], test_size=.25, random_state=TRAIN_TEST_SEED)\n",
    "attributes = df_model_fs.columns.tolist()\n",
    "attributes.remove(target)\n",
    "\n",
    "# normalise \n",
    "X_train = scaler.fit_transform(df_train.loc[:,attributes].astype(float))\n",
    "y_train = df_train.Churn.values\n",
    "X_test = scaler.transform(df_test.loc[:,attributes].astype(float))\n",
    "y_test = df_test.Churn.values\n",
    "\n",
    "for model in models:\n",
    "    \n",
    "    crossval_scores = cross_val_score(model[\"ref\"], X_train, y_train, scoring='recall', cv=5)\n",
    "    print (\"\\nModel %s\" % model[\"name\"])\n",
    "    print (\"\\tCV scores %s\" % crossval_scores)\n",
    "    print (\"\\tmean=%.3f std=%.3f\" % (crossval_scores.mean(), crossval_scores.std()))"
   ]
  },
  {
   "cell_type": "code",
   "execution_count": null,
   "metadata": {
    "Collapsed": "false"
   },
   "outputs": [],
   "source": []
  },
  {
   "cell_type": "code",
   "execution_count": null,
   "metadata": {
    "Collapsed": "false"
   },
   "outputs": [],
   "source": []
  },
  {
   "cell_type": "code",
   "execution_count": null,
   "metadata": {
    "Collapsed": "false"
   },
   "outputs": [],
   "source": []
  },
  {
   "cell_type": "code",
   "execution_count": null,
   "metadata": {
    "Collapsed": "false"
   },
   "outputs": [],
   "source": []
  },
  {
   "cell_type": "code",
   "execution_count": null,
   "metadata": {
    "Collapsed": "false"
   },
   "outputs": [],
   "source": []
  },
  {
   "cell_type": "code",
   "execution_count": null,
   "metadata": {
    "Collapsed": "false"
   },
   "outputs": [],
   "source": []
  },
  {
   "cell_type": "code",
   "execution_count": null,
   "metadata": {
    "Collapsed": "false"
   },
   "outputs": [],
   "source": []
  },
  {
   "cell_type": "code",
   "execution_count": null,
   "metadata": {
    "Collapsed": "false"
   },
   "outputs": [],
   "source": []
  }
 ],
 "metadata": {
  "kernelspec": {
   "display_name": "Python 3",
   "language": "python",
   "name": "python3"
  },
  "language_info": {
   "codemirror_mode": {
    "name": "ipython",
    "version": 3
   },
   "file_extension": ".py",
   "mimetype": "text/x-python",
   "name": "python",
   "nbconvert_exporter": "python",
   "pygments_lexer": "ipython3",
   "version": "3.8.6"
  }
 },
 "nbformat": 4,
 "nbformat_minor": 4
}
