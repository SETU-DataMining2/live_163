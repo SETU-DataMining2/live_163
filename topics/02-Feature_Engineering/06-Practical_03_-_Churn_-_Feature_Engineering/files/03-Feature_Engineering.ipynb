{
 "cells": [
  {
   "cell_type": "markdown",
   "metadata": {
    "Collapsed": "false"
   },
   "source": [
    "# Churn - Feature Engineering"
   ]
  },
  {
   "cell_type": "markdown",
   "metadata": {
    "Collapsed": "false"
   },
   "source": [
    "## Imports and Setup"
   ]
  },
  {
   "cell_type": "code",
   "execution_count": 1,
   "metadata": {
    "Collapsed": "false"
   },
   "outputs": [],
   "source": [
    "import pandas as pd\n",
    "import numpy as np\n",
    "import matplotlib.pyplot as plt\n",
    "import seaborn as sns\n",
    "\n",
    "from IPython.display import display, Markdown\n",
    "plt.style.use(\"seaborn-darkgrid\")\n",
    "pd.set_option('display.max_columns', None)  \n",
    "\n",
    "import os\n",
    "for d in ['orig','data','output']: os.makedirs(d, exist_ok=True)\n",
    "    \n",
    "DEBUG = False\n",
    "SEED = 72"
   ]
  },
  {
   "cell_type": "code",
   "execution_count": 2,
   "metadata": {
    "Collapsed": "false"
   },
   "outputs": [],
   "source": [
    "# utility function for typesetting percentages\n",
    "display_fraction = lambda n,d: (n/d*100, n, d)"
   ]
  },
  {
   "cell_type": "markdown",
   "metadata": {
    "Collapsed": "false"
   },
   "source": [
    "## Load and Prepare the Data \n",
    "\n",
    "I have made a slight change of naming convention which will simply code below - and also avoid mistakes in lab sessions when I rerun cells out of order to demo parts of the code.   Rather than using __df__ to store the full dataset I will use __df_all__, and use __df__ as an alias for various dataset as needed - see [Feature Engineering](#Feature_Engineering). So will try to follow naming convention:\n",
    "\n",
    " * __df__ alias for various datasets (treat as a link a tmp variable, more later). \n",
    " * __df_all__ full dataset after loading and prepped (columns renamed, value recoded).\n",
    " * __df_model__ dataset with target and a subset of the original attributes that may appear in model or be used to construct other attributes.\n",
    " * __df_train__ dataset \n",
    " * __df_test__ dataset \n",
    "\n",
    " \n"
   ]
  },
  {
   "cell_type": "code",
   "execution_count": 3,
   "metadata": {
    "Collapsed": "false"
   },
   "outputs": [
    {
     "name": "stdout",
     "output_type": "stream",
     "text": [
      "Churn (3333, 22)\n",
      "States (52, 4)\n"
     ]
    },
    {
     "data": {
      "text/markdown": [
       " * Data set consists of 3333 cases (rows) with 24 features (cols) and a single target."
      ],
      "text/plain": [
       "<IPython.core.display.Markdown object>"
      ]
     },
     "metadata": {},
     "output_type": "display_data"
    },
    {
     "data": {
      "text/html": [
       "<div>\n",
       "<style scoped>\n",
       "    .dataframe tbody tr th:only-of-type {\n",
       "        vertical-align: middle;\n",
       "    }\n",
       "\n",
       "    .dataframe tbody tr th {\n",
       "        vertical-align: top;\n",
       "    }\n",
       "\n",
       "    .dataframe thead th {\n",
       "        text-align: right;\n",
       "    }\n",
       "</style>\n",
       "<table border=\"1\" class=\"dataframe\">\n",
       "  <thead>\n",
       "    <tr style=\"text-align: right;\">\n",
       "      <th></th>\n",
       "      <th>State</th>\n",
       "      <th>Account_Length</th>\n",
       "      <th>Area_Code</th>\n",
       "      <th>Phone</th>\n",
       "      <th>Intl_Plan</th>\n",
       "      <th>VMail_Plan</th>\n",
       "      <th>VMail_Message</th>\n",
       "      <th>Day_Mins</th>\n",
       "      <th>Day_Calls</th>\n",
       "      <th>Day_Charge</th>\n",
       "      <th>Eve_Mins</th>\n",
       "      <th>Eve_Calls</th>\n",
       "      <th>Eve_Charge</th>\n",
       "      <th>Night_Mins</th>\n",
       "      <th>Night_Calls</th>\n",
       "      <th>Night_Charge</th>\n",
       "      <th>Intl_Mins</th>\n",
       "      <th>Intl_Calls</th>\n",
       "      <th>Intl_Charge</th>\n",
       "      <th>CustServ_Calls</th>\n",
       "      <th>Churn</th>\n",
       "      <th>Area</th>\n",
       "      <th>Latitude</th>\n",
       "      <th>Longitude</th>\n",
       "      <th>Name</th>\n",
       "    </tr>\n",
       "  </thead>\n",
       "  <tbody>\n",
       "    <tr>\n",
       "      <th>0</th>\n",
       "      <td>KS</td>\n",
       "      <td>128</td>\n",
       "      <td>415</td>\n",
       "      <td>382-4657</td>\n",
       "      <td>0</td>\n",
       "      <td>1</td>\n",
       "      <td>25</td>\n",
       "      <td>265.1</td>\n",
       "      <td>110</td>\n",
       "      <td>45.07</td>\n",
       "      <td>197.4</td>\n",
       "      <td>99</td>\n",
       "      <td>16.78</td>\n",
       "      <td>244.7</td>\n",
       "      <td>91</td>\n",
       "      <td>11.01</td>\n",
       "      <td>10.0</td>\n",
       "      <td>3</td>\n",
       "      <td>2.7</td>\n",
       "      <td>1</td>\n",
       "      <td>0</td>\n",
       "      <td>382</td>\n",
       "      <td>39.011902</td>\n",
       "      <td>-98.484246</td>\n",
       "      <td>Kansas</td>\n",
       "    </tr>\n",
       "  </tbody>\n",
       "</table>\n",
       "</div>"
      ],
      "text/plain": [
       "  State  Account_Length  Area_Code     Phone  Intl_Plan  VMail_Plan  \\\n",
       "0    KS             128        415  382-4657          0           1   \n",
       "\n",
       "   VMail_Message  Day_Mins  Day_Calls  Day_Charge  Eve_Mins  Eve_Calls  \\\n",
       "0             25     265.1        110       45.07     197.4         99   \n",
       "\n",
       "   Eve_Charge  Night_Mins  Night_Calls  Night_Charge  Intl_Mins  Intl_Calls  \\\n",
       "0       16.78       244.7           91         11.01       10.0           3   \n",
       "\n",
       "   Intl_Charge  CustServ_Calls  Churn  Area   Latitude  Longitude    Name  \n",
       "0          2.7               1      0   382  39.011902 -98.484246  Kansas  "
      ]
     },
     "execution_count": 3,
     "metadata": {},
     "output_type": "execute_result"
    }
   ],
   "source": [
    "df_churn = pd.read_csv(\"data/churn.csv\")\n",
    "print(\"Churn\", df_churn.shape)\n",
    "df_states = pd.read_csv(\"data/states.csv\")\n",
    "print(\"States\", df_states.shape)\n",
    "\n",
    "df_all = df_churn.merge(df_states, on=\"State\")\n",
    "\n",
    "message = (\" * Data set consists of %d cases (rows) with %s features (cols) and a single target.\"  \n",
    "% (df_all.shape[0], df_all.shape[1]-1))\n",
    "display(Markdown(message))\n",
    "df_all.head(1)"
   ]
  },
  {
   "cell_type": "markdown",
   "metadata": {
    "Collapsed": "false"
   },
   "source": [
    "## Pre-Processing Data"
   ]
  },
  {
   "cell_type": "code",
   "execution_count": 4,
   "metadata": {
    "Collapsed": "false"
   },
   "outputs": [],
   "source": [
    "target = \"Churn\"\n",
    "features = df_all.columns.tolist()\n",
    "for c in [target, \"Phone\", \"State\", \"Name\"]:\n",
    "    if c in features: features.remove(c) \n",
    "\n",
    "# keep copy of origonal features for reporting later\n",
    "original_features = features[:]\n",
    "\n",
    "df_model = df_all.loc[:, features + [target]]"
   ]
  },
  {
   "cell_type": "markdown",
   "metadata": {
    "Collapsed": "false"
   },
   "source": [
    "### Train-Test Split"
   ]
  },
  {
   "cell_type": "code",
   "execution_count": 5,
   "metadata": {
    "Collapsed": "false"
   },
   "outputs": [
    {
     "data": {
      "text/plain": [
       "((1999, 22), (1334, 22))"
      ]
     },
     "execution_count": 5,
     "metadata": {},
     "output_type": "execute_result"
    }
   ],
   "source": [
    "from sklearn.model_selection import train_test_split\n",
    "\n",
    "df_train, df_test = train_test_split(df_model, stratify=df_model[target], test_size=.40, random_state=SEED)\n",
    "df_train.shape, df_test.shape"
   ]
  },
  {
   "cell_type": "markdown",
   "metadata": {
    "Collapsed": "false"
   },
   "source": [
    "## Feature_Engineering \n",
    "\n",
    "Features engineering and selection decision is carried out on __df_train__ ONLY, but resulting operations should be applied to both __df_train__ and __df_test__. The simplest way to do this (without repeating code) is to apply operations to __df_model__ and repeat the train/test split USING THE SAME SEED."
   ]
  },
  {
   "cell_type": "markdown",
   "metadata": {
    "Collapsed": "false"
   },
   "source": [
    "### New Feature - Cranky Triskaidekaphobias\n",
    "\n",
    "Would a feature indicating customers who complain and avoid the number 13 be useful in predicting Churn?\n",
    "\n",
    "This is a silly feature, but illustrates the general procedure"
   ]
  },
  {
   "cell_type": "code",
   "execution_count": 6,
   "metadata": {
    "Collapsed": "false"
   },
   "outputs": [
    {
     "data": {
      "text/html": [
       "<div>\n",
       "<style scoped>\n",
       "    .dataframe tbody tr th:only-of-type {\n",
       "        vertical-align: middle;\n",
       "    }\n",
       "\n",
       "    .dataframe tbody tr th {\n",
       "        vertical-align: top;\n",
       "    }\n",
       "\n",
       "    .dataframe thead th {\n",
       "        text-align: right;\n",
       "    }\n",
       "</style>\n",
       "<table border=\"1\" class=\"dataframe\">\n",
       "  <thead>\n",
       "    <tr style=\"text-align: right;\">\n",
       "      <th></th>\n",
       "      <th>Account_Length</th>\n",
       "      <th>Area_Code</th>\n",
       "      <th>Intl_Plan</th>\n",
       "      <th>VMail_Plan</th>\n",
       "      <th>VMail_Message</th>\n",
       "      <th>Day_Mins</th>\n",
       "      <th>Day_Calls</th>\n",
       "      <th>Day_Charge</th>\n",
       "      <th>Eve_Mins</th>\n",
       "      <th>Eve_Calls</th>\n",
       "      <th>Eve_Charge</th>\n",
       "      <th>Night_Mins</th>\n",
       "      <th>Night_Calls</th>\n",
       "      <th>Night_Charge</th>\n",
       "      <th>Intl_Mins</th>\n",
       "      <th>Intl_Calls</th>\n",
       "      <th>Intl_Charge</th>\n",
       "      <th>CustServ_Calls</th>\n",
       "      <th>Area</th>\n",
       "      <th>Latitude</th>\n",
       "      <th>Longitude</th>\n",
       "      <th>Churn</th>\n",
       "    </tr>\n",
       "  </thead>\n",
       "  <tbody>\n",
       "    <tr>\n",
       "      <th>26</th>\n",
       "      <td>167</td>\n",
       "      <td>415</td>\n",
       "      <td>0</td>\n",
       "      <td>0</td>\n",
       "      <td>0</td>\n",
       "      <td>131.6</td>\n",
       "      <td>120</td>\n",
       "      <td>22.37</td>\n",
       "      <td>211.3</td>\n",
       "      <td>96</td>\n",
       "      <td>17.96</td>\n",
       "      <td>168.3</td>\n",
       "      <td>97</td>\n",
       "      <td>7.57</td>\n",
       "      <td>11.1</td>\n",
       "      <td>4</td>\n",
       "      <td>3.00</td>\n",
       "      <td>4</td>\n",
       "      <td>409</td>\n",
       "      <td>39.011902</td>\n",
       "      <td>-98.484246</td>\n",
       "      <td>1</td>\n",
       "    </tr>\n",
       "    <tr>\n",
       "      <th>1489</th>\n",
       "      <td>159</td>\n",
       "      <td>415</td>\n",
       "      <td>0</td>\n",
       "      <td>1</td>\n",
       "      <td>23</td>\n",
       "      <td>153.6</td>\n",
       "      <td>93</td>\n",
       "      <td>26.11</td>\n",
       "      <td>216.9</td>\n",
       "      <td>88</td>\n",
       "      <td>18.44</td>\n",
       "      <td>161.3</td>\n",
       "      <td>91</td>\n",
       "      <td>7.26</td>\n",
       "      <td>12.6</td>\n",
       "      <td>3</td>\n",
       "      <td>3.40</td>\n",
       "      <td>2</td>\n",
       "      <td>394</td>\n",
       "      <td>33.836081</td>\n",
       "      <td>-81.163725</td>\n",
       "      <td>0</td>\n",
       "    </tr>\n",
       "    <tr>\n",
       "      <th>3222</th>\n",
       "      <td>107</td>\n",
       "      <td>408</td>\n",
       "      <td>0</td>\n",
       "      <td>0</td>\n",
       "      <td>0</td>\n",
       "      <td>103.4</td>\n",
       "      <td>94</td>\n",
       "      <td>17.58</td>\n",
       "      <td>189.3</td>\n",
       "      <td>125</td>\n",
       "      <td>16.09</td>\n",
       "      <td>227.2</td>\n",
       "      <td>125</td>\n",
       "      <td>10.22</td>\n",
       "      <td>14.4</td>\n",
       "      <td>3</td>\n",
       "      <td>3.89</td>\n",
       "      <td>1</td>\n",
       "      <td>339</td>\n",
       "      <td>41.603221</td>\n",
       "      <td>-73.087749</td>\n",
       "      <td>0</td>\n",
       "    </tr>\n",
       "    <tr>\n",
       "      <th>1261</th>\n",
       "      <td>57</td>\n",
       "      <td>415</td>\n",
       "      <td>0</td>\n",
       "      <td>0</td>\n",
       "      <td>0</td>\n",
       "      <td>161.0</td>\n",
       "      <td>113</td>\n",
       "      <td>27.37</td>\n",
       "      <td>208.0</td>\n",
       "      <td>134</td>\n",
       "      <td>17.68</td>\n",
       "      <td>208.1</td>\n",
       "      <td>81</td>\n",
       "      <td>9.36</td>\n",
       "      <td>8.4</td>\n",
       "      <td>4</td>\n",
       "      <td>2.27</td>\n",
       "      <td>3</td>\n",
       "      <td>403</td>\n",
       "      <td>31.968599</td>\n",
       "      <td>-99.901813</td>\n",
       "      <td>0</td>\n",
       "    </tr>\n",
       "    <tr>\n",
       "      <th>38</th>\n",
       "      <td>120</td>\n",
       "      <td>510</td>\n",
       "      <td>0</td>\n",
       "      <td>0</td>\n",
       "      <td>0</td>\n",
       "      <td>158.0</td>\n",
       "      <td>110</td>\n",
       "      <td>26.86</td>\n",
       "      <td>197.0</td>\n",
       "      <td>103</td>\n",
       "      <td>16.75</td>\n",
       "      <td>154.9</td>\n",
       "      <td>132</td>\n",
       "      <td>6.97</td>\n",
       "      <td>10.0</td>\n",
       "      <td>5</td>\n",
       "      <td>2.70</td>\n",
       "      <td>1</td>\n",
       "      <td>392</td>\n",
       "      <td>39.011902</td>\n",
       "      <td>-98.484246</td>\n",
       "      <td>0</td>\n",
       "    </tr>\n",
       "  </tbody>\n",
       "</table>\n",
       "</div>"
      ],
      "text/plain": [
       "      Account_Length  Area_Code  Intl_Plan  VMail_Plan  VMail_Message  \\\n",
       "26               167        415          0           0              0   \n",
       "1489             159        415          0           1             23   \n",
       "3222             107        408          0           0              0   \n",
       "1261              57        415          0           0              0   \n",
       "38               120        510          0           0              0   \n",
       "\n",
       "      Day_Mins  Day_Calls  Day_Charge  Eve_Mins  Eve_Calls  Eve_Charge  \\\n",
       "26       131.6        120       22.37     211.3         96       17.96   \n",
       "1489     153.6         93       26.11     216.9         88       18.44   \n",
       "3222     103.4         94       17.58     189.3        125       16.09   \n",
       "1261     161.0        113       27.37     208.0        134       17.68   \n",
       "38       158.0        110       26.86     197.0        103       16.75   \n",
       "\n",
       "      Night_Mins  Night_Calls  Night_Charge  Intl_Mins  Intl_Calls  \\\n",
       "26         168.3           97          7.57       11.1           4   \n",
       "1489       161.3           91          7.26       12.6           3   \n",
       "3222       227.2          125         10.22       14.4           3   \n",
       "1261       208.1           81          9.36        8.4           4   \n",
       "38         154.9          132          6.97       10.0           5   \n",
       "\n",
       "      Intl_Charge  CustServ_Calls  Area   Latitude  Longitude  Churn  \n",
       "26           3.00               4   409  39.011902 -98.484246      1  \n",
       "1489         3.40               2   394  33.836081 -81.163725      0  \n",
       "3222         3.89               1   339  41.603221 -73.087749      0  \n",
       "1261         2.27               3   403  31.968599 -99.901813      0  \n",
       "38           2.70               1   392  39.011902 -98.484246      0  "
      ]
     },
     "execution_count": 6,
     "metadata": {},
     "output_type": "execute_result"
    }
   ],
   "source": [
    "my_query = df_train.query('CustServ_Calls>0 & Day_Calls!=13 & Eve_Calls!=13 & Night_Calls!=13 & Intl_Calls!=13')\n",
    "my_query.head()"
   ]
  },
  {
   "cell_type": "code",
   "execution_count": 7,
   "metadata": {
    "Collapsed": "false"
   },
   "outputs": [],
   "source": [
    "df_model[\"Cranky_Triskaidekaphobias\"] = df_model.apply (lambda row: (row.CustServ_Calls>0 \n",
    "            and row.Day_Calls!=13 and row.Eve_Calls!=13 \n",
    "            and row.Night_Calls!=13 and row.Intl_Calls!=13), axis=1)"
   ]
  },
  {
   "cell_type": "code",
   "execution_count": 8,
   "metadata": {},
   "outputs": [
    {
     "data": {
      "text/plain": [
       "True     2626\n",
       "False     707\n",
       "Name: Cranky_Triskaidekaphobias, dtype: int64"
      ]
     },
     "execution_count": 8,
     "metadata": {},
     "output_type": "execute_result"
    }
   ],
   "source": [
    "# test generated feature to ensure has sufficient variability\n",
    "df_model.Cranky_Triskaidekaphobias.value_counts()"
   ]
  },
  {
   "cell_type": "markdown",
   "metadata": {
    "Collapsed": "false"
   },
   "source": [
    "### New Feature - ????"
   ]
  },
  {
   "cell_type": "code",
   "execution_count": null,
   "metadata": {},
   "outputs": [],
   "source": []
  },
  {
   "cell_type": "markdown",
   "metadata": {
    "Collapsed": "false"
   },
   "source": [
    "### New Feature - ????"
   ]
  },
  {
   "cell_type": "code",
   "execution_count": null,
   "metadata": {
    "Collapsed": "false"
   },
   "outputs": [],
   "source": []
  },
  {
   "cell_type": "markdown",
   "metadata": {
    "Collapsed": "false"
   },
   "source": [
    "### New Feature - ????"
   ]
  },
  {
   "cell_type": "code",
   "execution_count": null,
   "metadata": {
    "Collapsed": "false"
   },
   "outputs": [],
   "source": []
  },
  {
   "cell_type": "markdown",
   "metadata": {
    "Collapsed": "false"
   },
   "source": [
    "### New Feature - ????"
   ]
  },
  {
   "cell_type": "code",
   "execution_count": null,
   "metadata": {
    "Collapsed": "false"
   },
   "outputs": [],
   "source": []
  },
  {
   "cell_type": "markdown",
   "metadata": {
    "Collapsed": "false"
   },
   "source": [
    "### New Feature - ????"
   ]
  },
  {
   "cell_type": "code",
   "execution_count": null,
   "metadata": {
    "Collapsed": "false"
   },
   "outputs": [],
   "source": []
  },
  {
   "cell_type": "markdown",
   "metadata": {},
   "source": [
    "## Model Selection\n",
    "\n",
    "We are not going to focus on model selection today, so just going to use a few different types of classifiers to see the impact of different features."
   ]
  },
  {
   "cell_type": "code",
   "execution_count": 9,
   "metadata": {
    "Collapsed": "false"
   },
   "outputs": [
    {
     "name": "stdout",
     "output_type": "stream",
     "text": [
      "Models:\n",
      "    NB                             GaussianNB()\n",
      "    KNN                            KNeighborsClassifier()\n",
      "    LogisticRegression             LogisticRegression()\n",
      "    SVC                            SVC()\n",
      "    DT (pruned=4)                  DecisionTreeClassifier(criterion='entropy', max_depth=4)\n"
     ]
    }
   ],
   "source": [
    "models = []\n",
    "\n",
    "# Naive Bayes\n",
    "from sklearn.naive_bayes import GaussianNB\n",
    "models.append( {\"name\": \"NB\", \"ref\": GaussianNB()} )\n",
    "\n",
    "# k-nearest neighbor \n",
    "from sklearn.neighbors import KNeighborsClassifier\n",
    "models.append( {\"name\": \"KNN\", \"ref\": KNeighborsClassifier()} )\n",
    "\n",
    "# Logistic Regression\n",
    "from sklearn.linear_model import LogisticRegression\n",
    "models.append( {\"name\": \"LogisticRegression\", \"ref\": LogisticRegression(solver=\"lbfgs\")} )\n",
    "\n",
    "# Support Vector Machines\n",
    "from sklearn.svm import SVC\n",
    "models.append( {\"name\": \"SVC\", \"ref\": SVC(gamma=\"scale\")} )\n",
    "\n",
    "# Decision Trees\n",
    "from sklearn.tree import DecisionTreeClassifier\n",
    "models.append( {\"name\": \"DT (pruned=4)\", \"ref\": DecisionTreeClassifier(criterion='entropy', max_depth=4)} )\n",
    "\n",
    "print(\"Models:\")\n",
    "for model in models:\n",
    "    print(f\"    {model['name']:30} {model['ref']}\")\n",
    "\n",
    "    \n",
    "def train_models():\n",
    "    for model in models:\n",
    "    \n",
    "        scores = cross_val_score(model[\"ref\"], X_train, y_train, scoring='f1', cv=10)\n",
    "        model['score_mean'] = scores.mean()\n",
    "        model['score_std'] = scores.std()\n",
    "        print (\"\\nModel %s\" % model[\"name\"])\n",
    "        print (\"\\tCV scores %s\" % [f\"{s:.4f}\" for s in scores])\n",
    "        print (f\"\\tmean={model['score_mean']:.2%} std={model['score_std']:.4f}\")\n",
    "    \n",
    "    opt = [model for model in models if model['score_mean']==max(model['score_mean'] for model in models)]\n",
    "    print (f\"\\nBest Performing Model {model['name']} with mean={model['score_mean']:.2%}\" )"
   ]
  },
  {
   "cell_type": "markdown",
   "metadata": {
    "Collapsed": "false"
   },
   "source": [
    "## Model Training"
   ]
  },
  {
   "cell_type": "code",
   "execution_count": 10,
   "metadata": {
    "Collapsed": "false"
   },
   "outputs": [
    {
     "name": "stdout",
     "output_type": "stream",
     "text": [
      "['Account_Length' 'Area_Code' 'Intl_Plan' 'VMail_Plan' 'VMail_Message'\n",
      " 'Day_Mins' 'Day_Calls' 'Day_Charge' 'Eve_Mins' 'Eve_Calls' 'Eve_Charge'\n",
      " 'Night_Mins' 'Night_Calls' 'Night_Charge' 'Intl_Mins' 'Intl_Calls'\n",
      " 'Intl_Charge' 'CustServ_Calls' 'Area' 'Latitude' 'Longitude' 'Churn'\n",
      " 'Cranky_Triskaidekaphobias']\n"
     ]
    }
   ],
   "source": [
    "print (df_model.columns.values)"
   ]
  },
  {
   "cell_type": "markdown",
   "metadata": {
    "Collapsed": "false"
   },
   "source": [
    "### Train-Test Split\n",
    "\n",
    "REPEAT train/test split from above so that both data subsets have the modified feature set."
   ]
  },
  {
   "cell_type": "code",
   "execution_count": 11,
   "metadata": {
    "Collapsed": "false"
   },
   "outputs": [
    {
     "name": "stdout",
     "output_type": "stream",
     "text": [
      "['Account_Length', 'Area_Code', 'Intl_Plan', 'VMail_Plan', 'VMail_Message', 'Day_Mins', 'Day_Calls', 'Day_Charge', 'Eve_Mins', 'Eve_Calls', 'Eve_Charge', 'Night_Mins', 'Night_Calls', 'Night_Charge', 'Intl_Mins', 'Intl_Calls', 'Intl_Charge', 'CustServ_Calls', 'Area', 'Cranky_Triskaidekaphobias']\n"
     ]
    }
   ],
   "source": [
    "df_train, df_test = train_test_split(df_model, stratify=df_model[target], test_size=.40, random_state=SEED)\n",
    "features = df_model.columns.tolist()\n",
    "for c in [target, \"Phone\", \"State\", \"Name\", \"Longitude\", \"Latitude\"]: \n",
    "    if c in features: features.remove(c)\n",
    "\n",
    "print(features)"
   ]
  },
  {
   "cell_type": "code",
   "execution_count": 12,
   "metadata": {
    "Collapsed": "false"
   },
   "outputs": [
    {
     "data": {
      "text/html": [
       "<div>\n",
       "<style scoped>\n",
       "    .dataframe tbody tr th:only-of-type {\n",
       "        vertical-align: middle;\n",
       "    }\n",
       "\n",
       "    .dataframe tbody tr th {\n",
       "        vertical-align: top;\n",
       "    }\n",
       "\n",
       "    .dataframe thead th {\n",
       "        text-align: right;\n",
       "    }\n",
       "</style>\n",
       "<table border=\"1\" class=\"dataframe\">\n",
       "  <thead>\n",
       "    <tr style=\"text-align: right;\">\n",
       "      <th></th>\n",
       "      <th>Account_Length</th>\n",
       "      <th>Area_Code</th>\n",
       "      <th>Intl_Plan</th>\n",
       "      <th>VMail_Plan</th>\n",
       "      <th>VMail_Message</th>\n",
       "      <th>Day_Mins</th>\n",
       "      <th>Day_Calls</th>\n",
       "      <th>Day_Charge</th>\n",
       "      <th>Eve_Mins</th>\n",
       "      <th>Eve_Calls</th>\n",
       "      <th>Eve_Charge</th>\n",
       "      <th>Night_Mins</th>\n",
       "      <th>Night_Calls</th>\n",
       "      <th>Night_Charge</th>\n",
       "      <th>Intl_Mins</th>\n",
       "      <th>Intl_Calls</th>\n",
       "      <th>Intl_Charge</th>\n",
       "      <th>CustServ_Calls</th>\n",
       "      <th>Area</th>\n",
       "      <th>Cranky_Triskaidekaphobias</th>\n",
       "    </tr>\n",
       "  </thead>\n",
       "  <tbody>\n",
       "    <tr>\n",
       "      <th>0</th>\n",
       "      <td>128</td>\n",
       "      <td>415</td>\n",
       "      <td>0</td>\n",
       "      <td>1</td>\n",
       "      <td>25</td>\n",
       "      <td>265.1</td>\n",
       "      <td>110</td>\n",
       "      <td>45.07</td>\n",
       "      <td>197.4</td>\n",
       "      <td>99</td>\n",
       "      <td>16.78</td>\n",
       "      <td>244.7</td>\n",
       "      <td>91</td>\n",
       "      <td>11.01</td>\n",
       "      <td>10.0</td>\n",
       "      <td>3</td>\n",
       "      <td>2.70</td>\n",
       "      <td>1</td>\n",
       "      <td>382</td>\n",
       "      <td>True</td>\n",
       "    </tr>\n",
       "    <tr>\n",
       "      <th>1</th>\n",
       "      <td>70</td>\n",
       "      <td>408</td>\n",
       "      <td>0</td>\n",
       "      <td>0</td>\n",
       "      <td>0</td>\n",
       "      <td>232.1</td>\n",
       "      <td>122</td>\n",
       "      <td>39.46</td>\n",
       "      <td>292.3</td>\n",
       "      <td>112</td>\n",
       "      <td>24.85</td>\n",
       "      <td>201.2</td>\n",
       "      <td>112</td>\n",
       "      <td>9.05</td>\n",
       "      <td>0.0</td>\n",
       "      <td>0</td>\n",
       "      <td>0.00</td>\n",
       "      <td>3</td>\n",
       "      <td>411</td>\n",
       "      <td>True</td>\n",
       "    </tr>\n",
       "    <tr>\n",
       "      <th>2</th>\n",
       "      <td>92</td>\n",
       "      <td>408</td>\n",
       "      <td>1</td>\n",
       "      <td>0</td>\n",
       "      <td>0</td>\n",
       "      <td>62.6</td>\n",
       "      <td>111</td>\n",
       "      <td>10.64</td>\n",
       "      <td>180.6</td>\n",
       "      <td>126</td>\n",
       "      <td>15.35</td>\n",
       "      <td>221.7</td>\n",
       "      <td>80</td>\n",
       "      <td>9.98</td>\n",
       "      <td>10.4</td>\n",
       "      <td>2</td>\n",
       "      <td>2.81</td>\n",
       "      <td>1</td>\n",
       "      <td>386</td>\n",
       "      <td>True</td>\n",
       "    </tr>\n",
       "    <tr>\n",
       "      <th>3</th>\n",
       "      <td>137</td>\n",
       "      <td>408</td>\n",
       "      <td>0</td>\n",
       "      <td>0</td>\n",
       "      <td>0</td>\n",
       "      <td>205.9</td>\n",
       "      <td>88</td>\n",
       "      <td>35.00</td>\n",
       "      <td>209.3</td>\n",
       "      <td>86</td>\n",
       "      <td>17.79</td>\n",
       "      <td>289.9</td>\n",
       "      <td>84</td>\n",
       "      <td>13.05</td>\n",
       "      <td>14.5</td>\n",
       "      <td>4</td>\n",
       "      <td>3.92</td>\n",
       "      <td>2</td>\n",
       "      <td>352</td>\n",
       "      <td>True</td>\n",
       "    </tr>\n",
       "    <tr>\n",
       "      <th>4</th>\n",
       "      <td>132</td>\n",
       "      <td>415</td>\n",
       "      <td>0</td>\n",
       "      <td>0</td>\n",
       "      <td>0</td>\n",
       "      <td>83.4</td>\n",
       "      <td>110</td>\n",
       "      <td>14.18</td>\n",
       "      <td>232.2</td>\n",
       "      <td>137</td>\n",
       "      <td>19.74</td>\n",
       "      <td>146.7</td>\n",
       "      <td>114</td>\n",
       "      <td>6.60</td>\n",
       "      <td>7.6</td>\n",
       "      <td>5</td>\n",
       "      <td>2.05</td>\n",
       "      <td>1</td>\n",
       "      <td>369</td>\n",
       "      <td>True</td>\n",
       "    </tr>\n",
       "  </tbody>\n",
       "</table>\n",
       "</div>"
      ],
      "text/plain": [
       "   Account_Length  Area_Code  Intl_Plan  VMail_Plan  VMail_Message  Day_Mins  \\\n",
       "0             128        415          0           1             25     265.1   \n",
       "1              70        408          0           0              0     232.1   \n",
       "2              92        408          1           0              0      62.6   \n",
       "3             137        408          0           0              0     205.9   \n",
       "4             132        415          0           0              0      83.4   \n",
       "\n",
       "   Day_Calls  Day_Charge  Eve_Mins  Eve_Calls  Eve_Charge  Night_Mins  \\\n",
       "0        110       45.07     197.4         99       16.78       244.7   \n",
       "1        122       39.46     292.3        112       24.85       201.2   \n",
       "2        111       10.64     180.6        126       15.35       221.7   \n",
       "3         88       35.00     209.3         86       17.79       289.9   \n",
       "4        110       14.18     232.2        137       19.74       146.7   \n",
       "\n",
       "   Night_Calls  Night_Charge  Intl_Mins  Intl_Calls  Intl_Charge  \\\n",
       "0           91         11.01       10.0           3         2.70   \n",
       "1          112          9.05        0.0           0         0.00   \n",
       "2           80          9.98       10.4           2         2.81   \n",
       "3           84         13.05       14.5           4         3.92   \n",
       "4          114          6.60        7.6           5         2.05   \n",
       "\n",
       "   CustServ_Calls  Area  Cranky_Triskaidekaphobias  \n",
       "0               1   382                       True  \n",
       "1               3   411                       True  \n",
       "2               1   386                       True  \n",
       "3               2   352                       True  \n",
       "4               1   369                       True  "
      ]
     },
     "execution_count": 12,
     "metadata": {},
     "output_type": "execute_result"
    }
   ],
   "source": [
    "df_model.loc[:,features].head()"
   ]
  },
  {
   "cell_type": "code",
   "execution_count": 13,
   "metadata": {
    "Collapsed": "false"
   },
   "outputs": [],
   "source": [
    "from sklearn.preprocessing import StandardScaler\n",
    "\n",
    "scaler = StandardScaler()\n",
    "\n",
    "X_train = scaler.fit_transform(df_train.loc[:,features].values)\n",
    "y_train = df_train.Churn.values\n",
    "\n",
    "X_test = scaler.transform(df_test.loc[:,features].values)\n",
    "y_test = df_test.Churn.values"
   ]
  },
  {
   "cell_type": "markdown",
   "metadata": {
    "Collapsed": "false"
   },
   "source": [
    "### Evaluation\n",
    "\n",
    "We used accuracy metric last week. \n",
    "Given the unbalanced dataset, other metrics are more appropriate. Recall which focus on identifying the churn cases is a good option. However, we will go with f1 score which is the harmonic mean of precision and recall."
   ]
  },
  {
   "cell_type": "code",
   "execution_count": 14,
   "metadata": {
    "Collapsed": "false"
   },
   "outputs": [],
   "source": [
    "from sklearn.model_selection import cross_val_score\n",
    "from sklearn.metrics import f1_score, recall_score, roc_auc_score, confusion_matrix, classification_report"
   ]
  },
  {
   "cell_type": "markdown",
   "metadata": {
    "Collapsed": "false"
   },
   "source": [
    "### Training - First Iteration"
   ]
  },
  {
   "cell_type": "code",
   "execution_count": 15,
   "metadata": {},
   "outputs": [
    {
     "name": "stdout",
     "output_type": "stream",
     "text": [
      "\n",
      "Model NB\n",
      "\tCV scores ['0.5333', '0.4727', '0.4194', '0.5926', '0.4364', '0.4615', '0.5902', '0.6032', '0.4483', '0.3929']\n",
      "\tmean=49.50% std=0.0743\n",
      "\n",
      "Model KNN\n",
      "\tCV scores ['0.2857', '0.4103', '0.5000', '0.3333', '0.4737', '0.3333', '0.4390', '0.5957', '0.3590', '0.2162']\n",
      "\tmean=39.46% std=0.1061\n",
      "\n",
      "Model LogisticRegression\n",
      "\tCV scores ['0.4545', '0.1905', '0.1860', '0.3077', '0.1667', '0.2632', '0.4545', '0.4681', '0.2439', '0.1538']\n",
      "\tmean=28.89% std=0.1198\n",
      "\n",
      "Model SVC\n",
      "\tCV scores ['0.5500', '0.5778', '0.5455', '0.6512', '0.5909', '0.6190', '0.6818', '0.6222', '0.6522', '0.5000']\n",
      "\tmean=59.91% std=0.0538\n",
      "\n",
      "Model DT (pruned=4)\n",
      "\tCV scores ['0.6000', '0.6809', '0.6667', '0.5957', '0.6522', '0.6923', '0.6538', '0.5778', '0.6531', '0.4762']\n",
      "\tmean=62.49% std=0.0613\n",
      "\n",
      "Best Performing Model DT (pruned=4) with mean=62.49%\n"
     ]
    }
   ],
   "source": [
    "train_models()"
   ]
  },
  {
   "cell_type": "markdown",
   "metadata": {
    "Collapsed": "false"
   },
   "source": [
    "### Feature Selection\n",
    "\n",
    "Next we are going to try to reduce the number of features using [RFECV](https://scikit-learn.org/stable/modules/generated/sklearn.feature_selection.RFECV.html) a recursive feature elimination with cross-validation function.\n",
    "\n",
    "RFECV needs a classifier that returns information about feature importance either through a `coef_` attribute or through a `feature_importances_` attribute. \n",
    "Of our models given above will work, only `LogisticRegression` and `DT` provide this information\n"
   ]
  },
  {
   "cell_type": "code",
   "execution_count": 16,
   "metadata": {},
   "outputs": [
    {
     "name": "stdout",
     "output_type": "stream",
     "text": [
      "Number of features starting: 20\n"
     ]
    }
   ],
   "source": [
    "print(\"Number of features starting:\", len(features))"
   ]
  },
  {
   "cell_type": "code",
   "execution_count": 17,
   "metadata": {},
   "outputs": [],
   "source": [
    "# list of our modules that can be used with RFECV\n",
    "suitable_models = [model for model in models if model['name'].split()[0] in ['LogisticRegression','DT'] ]"
   ]
  },
  {
   "cell_type": "code",
   "execution_count": 18,
   "metadata": {
    "Collapsed": "false"
   },
   "outputs": [
    {
     "name": "stdout",
     "output_type": "stream",
     "text": [
      "Optimal number of features : 7\n"
     ]
    },
    {
     "data": {
      "image/png": "[encoded data removed]",
      "text/plain": [
       "<Figure size 432x288 with 1 Axes>"
      ]
     },
     "metadata": {},
     "output_type": "display_data"
    }
   ],
   "source": [
    "from sklearn.model_selection import StratifiedKFold\n",
    "from sklearn.feature_selection import RFECV\n",
    "\n",
    "model = suitable_models[1]\n",
    "\n",
    "rfecv = RFECV(estimator=model[\"ref\"], step=1, cv=StratifiedKFold(2), scoring=\"f1\")\n",
    "rfecv.fit(X_train, y_train)\n",
    "print(\"Optimal number of features : %d\" % rfecv.n_features_)\n",
    "\n",
    "# Plot number of features VS. cross-validation scores\n",
    "plt.figure()\n",
    "plt.title(f\"{model['name']} with RFECV\")\n",
    "plt.xlabel(\"Number of features selected\")\n",
    "plt.ylabel(\"Cross validation score\")\n",
    "plt.plot(range(1, len(rfecv.grid_scores_) + 1), rfecv.grid_scores_)\n",
    "plt.show()"
   ]
  },
  {
   "cell_type": "code",
   "execution_count": 19,
   "metadata": {
    "Collapsed": "false"
   },
   "outputs": [
    {
     "data": {
      "text/plain": [
       "['Intl_Plan',\n",
       " 'VMail_Plan',\n",
       " 'Day_Mins',\n",
       " 'Day_Calls',\n",
       " 'Eve_Charge',\n",
       " 'Intl_Calls',\n",
       " 'CustServ_Calls']"
      ]
     },
     "execution_count": 19,
     "metadata": {},
     "output_type": "execute_result"
    }
   ],
   "source": [
    "# list of features selected\n",
    "features_selected = np.array(features)[rfecv.support_].tolist()\n",
    "features_selected"
   ]
  },
  {
   "cell_type": "markdown",
   "metadata": {
    "Collapsed": "false"
   },
   "source": [
    "### Training - After Feature Selection"
   ]
  },
  {
   "cell_type": "code",
   "execution_count": 20,
   "metadata": {
    "Collapsed": "false"
   },
   "outputs": [
    {
     "data": {
      "text/html": [
       "<div>\n",
       "<style scoped>\n",
       "    .dataframe tbody tr th:only-of-type {\n",
       "        vertical-align: middle;\n",
       "    }\n",
       "\n",
       "    .dataframe tbody tr th {\n",
       "        vertical-align: top;\n",
       "    }\n",
       "\n",
       "    .dataframe thead th {\n",
       "        text-align: right;\n",
       "    }\n",
       "</style>\n",
       "<table border=\"1\" class=\"dataframe\">\n",
       "  <thead>\n",
       "    <tr style=\"text-align: right;\">\n",
       "      <th></th>\n",
       "      <th>Intl_Plan</th>\n",
       "      <th>VMail_Plan</th>\n",
       "      <th>Day_Mins</th>\n",
       "      <th>Day_Calls</th>\n",
       "      <th>Eve_Charge</th>\n",
       "      <th>Intl_Calls</th>\n",
       "      <th>CustServ_Calls</th>\n",
       "      <th>Churn</th>\n",
       "    </tr>\n",
       "  </thead>\n",
       "  <tbody>\n",
       "    <tr>\n",
       "      <th>0</th>\n",
       "      <td>0</td>\n",
       "      <td>1</td>\n",
       "      <td>265.1</td>\n",
       "      <td>110</td>\n",
       "      <td>16.78</td>\n",
       "      <td>3</td>\n",
       "      <td>1</td>\n",
       "      <td>0</td>\n",
       "    </tr>\n",
       "  </tbody>\n",
       "</table>\n",
       "</div>"
      ],
      "text/plain": [
       "   Intl_Plan  VMail_Plan  Day_Mins  Day_Calls  Eve_Charge  Intl_Calls  \\\n",
       "0          0           1     265.1        110       16.78           3   \n",
       "\n",
       "   CustServ_Calls  Churn  \n",
       "0               1      0  "
      ]
     },
     "metadata": {},
     "output_type": "display_data"
    },
    {
     "name": "stdout",
     "output_type": "stream",
     "text": [
      "\n",
      "Model NB\n",
      "\tCV scores ['0.5172', '0.4000', '0.3636', '0.5200', '0.4000', '0.4727', '0.5085', '0.5000', '0.3846', '0.3214']\n",
      "\tmean=43.88% std=0.0692\n",
      "\n",
      "Model KNN\n",
      "\tCV scores ['0.5714', '0.5556', '0.6087', '0.6383', '0.6047', '0.5000', '0.6222', '0.6800', '0.5106', '0.4651']\n",
      "\tmean=57.57% std=0.0644\n",
      "\n",
      "Model LogisticRegression\n",
      "\tCV scores ['0.3684', '0.1622', '0.1026', '0.2703', '0.0606', '0.2162', '0.4545', '0.3500', '0.2927', '0.1579']\n",
      "\tmean=24.35% std=0.1194\n",
      "\n",
      "Model SVC\n",
      "\tCV scores ['0.5957', '0.5532', '0.6818', '0.6809', '0.6222', '0.6522', '0.6957', '0.6087', '0.6522', '0.4286']\n",
      "\tmean=61.71% std=0.0755\n",
      "\n",
      "Model DT (pruned=4)\n",
      "\tCV scores ['0.6383', '0.6809', '0.6667', '0.5957', '0.6522', '0.6923', '0.6538', '0.5778', '0.6800', '0.4762']\n",
      "\tmean=63.14% std=0.0624\n",
      "\n",
      "Best Performing Model DT (pruned=4) with mean=63.14%\n"
     ]
    }
   ],
   "source": [
    "display(df_model.loc[:, features_selected + [target]].head(1))\n",
    "\n",
    "# normalise \n",
    "X_train = scaler.fit_transform(df_train.loc[:,features_selected].values)\n",
    "y_train = df_train.Churn.values\n",
    "X_test = scaler.transform(df_test.loc[:,features_selected].values)\n",
    "y_test = df_test.Churn.values\n",
    "\n",
    "train_models()"
   ]
  },
  {
   "cell_type": "code",
   "execution_count": null,
   "metadata": {
    "Collapsed": "false"
   },
   "outputs": [],
   "source": []
  },
  {
   "cell_type": "code",
   "execution_count": null,
   "metadata": {
    "Collapsed": "false"
   },
   "outputs": [],
   "source": []
  },
  {
   "cell_type": "code",
   "execution_count": null,
   "metadata": {
    "Collapsed": "false"
   },
   "outputs": [],
   "source": []
  },
  {
   "cell_type": "code",
   "execution_count": null,
   "metadata": {
    "Collapsed": "false"
   },
   "outputs": [],
   "source": []
  },
  {
   "cell_type": "code",
   "execution_count": null,
   "metadata": {
    "Collapsed": "false"
   },
   "outputs": [],
   "source": []
  },
  {
   "cell_type": "code",
   "execution_count": null,
   "metadata": {
    "Collapsed": "false"
   },
   "outputs": [],
   "source": []
  },
  {
   "cell_type": "code",
   "execution_count": null,
   "metadata": {
    "Collapsed": "false"
   },
   "outputs": [],
   "source": []
  }
 ],
 "metadata": {
  "kernelspec": {
   "display_name": "Python 3",
   "language": "python",
   "name": "python3"
  },
  "language_info": {
   "codemirror_mode": {
    "name": "ipython",
    "version": 3
   },
   "file_extension": ".py",
   "mimetype": "text/x-python",
   "name": "python",
   "nbconvert_exporter": "python",
   "pygments_lexer": "ipython3",
   "version": "3.9.5"
  },
  "widgets": {
   "application/vnd.jupyter.widget-state+json": {
    "state": {},
    "version_major": 2,
    "version_minor": 0
   }
  }
 },
 "nbformat": 4,
 "nbformat_minor": 4
}
